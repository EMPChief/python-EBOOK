{
 "cells": [
  {
   "cell_type": "markdown",
   "metadata": {},
   "source": [
    "## Loading and importing\n"
   ]
  },
  {
   "cell_type": "code",
   "execution_count": 227,
   "metadata": {},
   "outputs": [],
   "source": [
    "import re\n",
    "from collections import Counter"
   ]
  },
  {
   "cell_type": "code",
   "execution_count": 228,
   "metadata": {},
   "outputs": [],
   "source": [
    "path = 'miracle_in_the_andes.txt'"
   ]
  },
  {
   "cell_type": "code",
   "execution_count": 229,
   "metadata": {},
   "outputs": [],
   "source": [
    "with open(path, 'r') as f:\n",
    "    book = f.read()"
   ]
  },
  {
   "cell_type": "markdown",
   "metadata": {},
   "source": [
    "## Get number off chapters\n"
   ]
  },
  {
   "cell_type": "code",
   "execution_count": 230,
   "metadata": {},
   "outputs": [
    {
     "name": "stdout",
     "output_type": "stream",
     "text": [
      "Chapter 1\n",
      "\n",
      "Before\n",
      "\n",
      "\n",
      "IT WAS FRIDAY, the thirteenth of October. We joked about that—flying over the An\n",
      "<class 'str'>\n"
     ]
    }
   ],
   "source": [
    "print(book[0:100])\n",
    "print(type(book))"
   ]
  },
  {
   "cell_type": "code",
   "execution_count": 231,
   "metadata": {},
   "outputs": [
    {
     "name": "stdout",
     "output_type": "stream",
     "text": [
      "10\n"
     ]
    }
   ],
   "source": [
    "pattern = r'Chapter \\d+'\n",
    "chapters = re.findall(pattern, book)\n",
    "print(len(chapters))"
   ]
  },
  {
   "cell_type": "markdown",
   "metadata": {},
   "source": [
    "## Extract some sentance\n"
   ]
  },
  {
   "cell_type": "code",
   "execution_count": 255,
   "metadata": {},
   "outputs": [
    {
     "name": "stdout",
     "output_type": "stream",
     "text": [
      "How many sentences book got: 5347\n",
      "['Chapter 1\\n\\nBefore\\n\\n\\nIT WAS FRIDAY, the thirteenth of October.']\n"
     ]
    }
   ],
   "source": [
    "pattern2 = r'[a-zA-Z][^.!?]*[.!?]'\n",
    "sentences = re.findall(pattern2, book)\n",
    "count_sentences = len(sentences)\n",
    "print(f\"How many sentance book got: {count_sentences}\")\n",
    "print(sentences[0:1])"
   ]
  },
  {
   "cell_type": "code",
   "execution_count": 250,
   "metadata": {},
   "outputs": [
    {
     "name": "stdout",
     "output_type": "stream",
     "text": [
      "How many sentences with 'Andes' in them: 78\n",
      "['We joked about that—flying over the Andes on such an unlucky day, but young men make those kinds of jokes so easily.', 'Our pilots knew that this was the most dangerous time to fly across the Andes.', 'As we climbed, the plane banked steeply into a left turn and soon we were flying south, with the Argentine Andes rising to our right on the western horizon.', 'Uruguay is a low-lying country, and like most of my friends on the plane, my knowledge of the Andes, or of any mountains at all, was limited to what I had read in books.', 'In school we learned that the Andes range was the most extensive mountain system in the world, running the length of South America from Venezuela in the north to the southern tip of the continent in Tierra del Fuego.', 'I also knew that the Andes are the second-highest mountain range on the planet; in terms of average elevation, only the Himalayas are higher.', 'I had heard people refer to the Andes as one of the earth’s great geological wonders, and the view from the airplane gave me a visceral understanding of what that meant.', 'Our destination, Santiago, lies almost exactly due west of Mendoza, but the region of the Andes that separates the two cities is one of the highest sections of the entire chain, and home to some of the tallest mountains in the world.', 'We would fly south along the eastern foothills of the Andes with the mountains always on our right, until we reached the pass.', 'In the Southern Hemisphere, winter had given way to early spring, but in the Andes, temperatures still routinely dipped to 35 degrees below zero Fahrenheit, and the air was as dry as a desert.']\n"
     ]
    }
   ],
   "source": [
    "pattern3 = r'[a-zA-Z][^.!?]*Andes[^.!?]*[.!?]'\n",
    "sentences_with_andes = re.findall(pattern3, book)\n",
    "count_sentences_with_andes = len(sentences_with_andes)\n",
    "print(f\"How many sentences with 'Andes' in them: {count_sentences_with_andes}\")\n",
    "print(sentences_with_andes[0:10])"
   ]
  },
  {
   "cell_type": "code",
   "execution_count": 234,
   "metadata": {},
   "outputs": [
    {
     "name": "stdout",
     "output_type": "stream",
     "text": [
      "How many sentences with 'love' in them: 99\n",
      "Under the guidance of the Christian Brothers, both of us grew to love the game of rugby with a consuming passion.\n"
     ]
    }
   ],
   "source": [
    "word = 'love'\n",
    "pattern4 = rf'[a-zA-Z][^.!?]*{word}[^.!?]*[.!?]'\n",
    "\n",
    "sentences_with_love = re.findall(pattern4, book)\n",
    "count_sentences_with_love = len(sentences_with_love)\n",
    "\n",
    "print(f\"How many sentences with '{word}' in them: {count_sentences_with_love}\")\n",
    "print(sentences_with_love[2])"
   ]
  },
  {
   "cell_type": "markdown",
   "metadata": {},
   "source": [
    "## Check for most common word\n"
   ]
  },
  {
   "cell_type": "code",
   "execution_count": 235,
   "metadata": {},
   "outputs": [],
   "source": [
    "def most_common_words(text, top_n):\n",
    "    words = re.findall(r'\\b\\w+\\b', text.lower())\n",
    "    word_counts = Counter(words)\n",
    "    most_common = word_counts.most_common(top_n)\n",
    "    return most_common\n",
    "\n",
    "\n",
    "def find_top_words(text, top_count):\n",
    "    words = re.findall(r'\\b\\w+\\b', text.lower())\n",
    "    word_counts = Counter(words)\n",
    "    most_common = word_counts.most_common(top_count)\n",
    "    return most_common\n",
    "\n",
    "\n",
    "def find_top_word_input(text, rank):\n",
    "    words = re.findall(r'\\b\\w+\\b', text)\n",
    "\n",
    "    word_counts = Counter(words)\n",
    "    most_common = word_counts.most_common()\n",
    "\n",
    "    if 1 <= rank <= len(most_common):\n",
    "        word, count = most_common[rank - 1]\n",
    "        print(f\"{rank}. '{word}' with {count} occurrences.\")\n",
    "    else:\n",
    "        print(\"Invalid rank input. Please enter a rank within the valid range.\")"
   ]
  },
  {
   "cell_type": "code",
   "execution_count": 236,
   "metadata": {},
   "outputs": [
    {
     "name": "stdout",
     "output_type": "stream",
     "text": [
      "1. 'the' with 5346 occurrences.\n",
      "2. 'and' with 2795 occurrences.\n"
     ]
    }
   ],
   "source": [
    "top_n = 2\n",
    "result = most_common_words(book, top_n)\n",
    "for rank, (word, count) in enumerate(result, start=1):\n",
    "    print(f\"{rank}. '{word}' with {count} occurrences.\")"
   ]
  },
  {
   "cell_type": "code",
   "execution_count": 237,
   "metadata": {},
   "outputs": [
    {
     "name": "stdout",
     "output_type": "stream",
     "text": [
      "1. 'the' with 5346 occurrences.\n",
      "2. 'and' with 2795 occurrences.\n"
     ]
    }
   ],
   "source": [
    "top_count_input = 2\n",
    "\n",
    "result = find_top_words(book, top_count_input)\n",
    "for rank, (word, count) in enumerate(result, start=1):\n",
    "    print(f\"{rank}. '{word}' with {count} occurrences.\")"
   ]
  },
  {
   "cell_type": "code",
   "execution_count": 238,
   "metadata": {},
   "outputs": [
    {
     "name": "stdout",
     "output_type": "stream",
     "text": [
      "1. 'the' with 5013 occurrences.\n"
     ]
    }
   ],
   "source": [
    "rank_input = int(input(\"Enter the rank of the word you want to see: \"))\n",
    "\n",
    "find_top_word_input(book, rank_input)"
   ]
  },
  {
   "cell_type": "code",
   "execution_count": 239,
   "metadata": {},
   "outputs": [],
   "source": [
    "def find_words(text):\n",
    "    pattern = re.compile(\"[a-zA-Z]+\")\n",
    "    findings = re.findall(pattern, text.lower())\n",
    "    return findings\n",
    "\n",
    "\n",
    "def count_word_occurrences(words):\n",
    "    word_counts = {}\n",
    "    for word in words:\n",
    "        if word in word_counts:\n",
    "            word_counts[word] += 1\n",
    "        else:\n",
    "            word_counts[word] = 1\n",
    "    return word_counts"
   ]
  },
  {
   "cell_type": "code",
   "execution_count": 247,
   "metadata": {},
   "outputs": [],
   "source": [
    "found_words = find_words(book)\n",
    "word_occurrences = count_word_occurrences(found_words)\n",
    "\n",
    "d_list = [(value, key) for (key, value) in word_occurrences.items()]\n",
    "a_list = sorted(d_list, reverse=True)"
   ]
  },
  {
   "cell_type": "code",
   "execution_count": 249,
   "metadata": {},
   "outputs": [
    {
     "data": {
      "text/plain": [
       "[(2795, 'and'),\n",
       " (2729, 'i'),\n",
       " (2400, 'to'),\n",
       " (2060, 'of'),\n",
       " (1566, 'a'),\n",
       " (1430, 'was'),\n",
       " (1419, 'in'),\n",
       " (1226, 'we'),\n",
       " (1169, 'my')]"
      ]
     },
     "execution_count": 249,
     "metadata": {},
     "output_type": "execute_result"
    }
   ],
   "source": [
    "a_list[1:10]"
   ]
  },
  {
   "cell_type": "code",
   "execution_count": null,
   "metadata": {},
   "outputs": [],
   "source": []
  },
  {
   "cell_type": "code",
   "execution_count": null,
   "metadata": {},
   "outputs": [],
   "source": []
  },
  {
   "cell_type": "code",
   "execution_count": null,
   "metadata": {},
   "outputs": [],
   "source": []
  },
  {
   "cell_type": "code",
   "execution_count": null,
   "metadata": {},
   "outputs": [],
   "source": []
  },
  {
   "cell_type": "code",
   "execution_count": null,
   "metadata": {},
   "outputs": [],
   "source": []
  },
  {
   "cell_type": "code",
   "execution_count": null,
   "metadata": {},
   "outputs": [],
   "source": []
  },
  {
   "cell_type": "code",
   "execution_count": null,
   "metadata": {},
   "outputs": [],
   "source": []
  },
  {
   "cell_type": "code",
   "execution_count": null,
   "metadata": {},
   "outputs": [],
   "source": []
  }
 ],
 "metadata": {
  "kernelspec": {
   "display_name": "venv",
   "language": "python",
   "name": "python3"
  },
  "language_info": {
   "codemirror_mode": {
    "name": "ipython",
    "version": 3
   },
   "file_extension": ".py",
   "mimetype": "text/x-python",
   "name": "python",
   "nbconvert_exporter": "python",
   "pygments_lexer": "ipython3",
   "version": "3.11.6"
  }
 },
 "nbformat": 4,
 "nbformat_minor": 2
}
